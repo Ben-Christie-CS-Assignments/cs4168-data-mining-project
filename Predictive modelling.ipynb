{
 "cells": [
  {
   "cell_type": "code",
   "execution_count": 84,
   "id": "19ea95aa",
   "metadata": {},
   "outputs": [],
   "source": [
    "import pandas as pd\n",
    "import numpy as np\n",
    "from sklearn.pipeline import Pipeline, make_pipeline, FeatureUnion\n",
    "from sklearn.compose import ColumnTransformer\n",
    "from sklearn.base import BaseEstimator, TransformerMixin\n",
    "from sklearn.preprocessing import StandardScaler, RobustScaler, FunctionTransformer\n",
    "from sklearn.model_selection import train_test_split, GridSearchCV\n",
    "from sklearn.linear_model import LogisticRegression\n",
    "from sklearn import svm\n",
    "from sklearn.ensemble import RandomForestClassifier\n",
    "from sklearn.metrics import roc_curve, auc, accuracy_score, precision_recall_fscore_support\n",
    "import pickle\n",
    "import matplotlib.pyplot as plt\n",
    "%matplotlib inline"
   ]
  },
  {
   "cell_type": "markdown",
   "id": "5cb3fb8f",
   "metadata": {},
   "source": [
    "## Load the prepared dataset "
   ]
  },
  {
   "cell_type": "code",
   "execution_count": 85,
   "id": "8f05798e",
   "metadata": {},
   "outputs": [],
   "source": [
    "df = pd.read_csv(\"prepared_mushrooms_sample.csv\")"
   ]
  },
  {
   "cell_type": "code",
   "execution_count": 86,
   "id": "6cc5c2f2",
   "metadata": {},
   "outputs": [
    {
     "data": {
      "text/html": [
       "<div>\n",
       "<style scoped>\n",
       "    .dataframe tbody tr th:only-of-type {\n",
       "        vertical-align: middle;\n",
       "    }\n",
       "\n",
       "    .dataframe tbody tr th {\n",
       "        vertical-align: top;\n",
       "    }\n",
       "\n",
       "    .dataframe thead th {\n",
       "        text-align: right;\n",
       "    }\n",
       "</style>\n",
       "<table border=\"1\" class=\"dataframe\">\n",
       "  <thead>\n",
       "    <tr style=\"text-align: right;\">\n",
       "      <th></th>\n",
       "      <th>Unnamed: 0</th>\n",
       "      <th>ring-number</th>\n",
       "      <th>bruises_true</th>\n",
       "      <th>cap-color_buff</th>\n",
       "      <th>cap-color_cinammon</th>\n",
       "      <th>cap-color_gray</th>\n",
       "      <th>cap-color_green</th>\n",
       "      <th>cap-color_pink</th>\n",
       "      <th>cap-color_purple</th>\n",
       "      <th>cap-color_red</th>\n",
       "      <th>cap-color_white</th>\n",
       "      <th>cap-color_yellow</th>\n",
       "      <th>cap-shape_conical</th>\n",
       "      <th>cap-shape_convex</th>\n",
       "      <th>cap-shape_flat</th>\n",
       "      <th>cap-shape_knobbed</th>\n",
       "      <th>cap-shape_sunken</th>\n",
       "      <th>cap-surface_grooves</th>\n",
       "      <th>cap-surface_scaly</th>\n",
       "      <th>cap-surface_smooth</th>\n",
       "      <th>class_poisonous</th>\n",
       "      <th>gill-attachment_free</th>\n",
       "      <th>gill-color_brown</th>\n",
       "      <th>gill-color_buff</th>\n",
       "      <th>gill-color_chocolate</th>\n",
       "      <th>gill-color_gray</th>\n",
       "      <th>gill-color_green</th>\n",
       "      <th>gill-color_orange</th>\n",
       "      <th>gill-color_pink</th>\n",
       "      <th>gill-color_purple</th>\n",
       "      <th>gill-color_red</th>\n",
       "      <th>gill-color_white</th>\n",
       "      <th>gill-color_yellow</th>\n",
       "      <th>gill-size_narrow</th>\n",
       "      <th>gill-spacing_crowded</th>\n",
       "      <th>habitat_leaves</th>\n",
       "      <th>habitat_meadows</th>\n",
       "      <th>habitat_paths</th>\n",
       "      <th>habitat_urban</th>\n",
       "      <th>habitat_waste</th>\n",
       "      <th>habitat_woods</th>\n",
       "      <th>odor_anise</th>\n",
       "      <th>odor_creosote</th>\n",
       "      <th>odor_fishy</th>\n",
       "      <th>odor_foul</th>\n",
       "      <th>odor_musty</th>\n",
       "      <th>odor_none</th>\n",
       "      <th>odor_pungent</th>\n",
       "      <th>odor_spicy</th>\n",
       "      <th>population_clustered</th>\n",
       "      <th>population_numerous</th>\n",
       "      <th>population_scattered</th>\n",
       "      <th>population_several</th>\n",
       "      <th>population_solitary</th>\n",
       "      <th>ring-type_flaring</th>\n",
       "      <th>ring-type_large</th>\n",
       "      <th>ring-type_none</th>\n",
       "      <th>ring-type_pendant</th>\n",
       "      <th>spore-print-color_brown</th>\n",
       "      <th>spore-print-color_buff</th>\n",
       "      <th>spore-print-color_chocolate</th>\n",
       "      <th>spore-print-color_green</th>\n",
       "      <th>spore-print-color_orange</th>\n",
       "      <th>spore-print-color_purple</th>\n",
       "      <th>spore-print-color_white</th>\n",
       "      <th>spore-print-color_yellow</th>\n",
       "      <th>stalk-color-above-ring_buff</th>\n",
       "      <th>stalk-color-above-ring_cinammon</th>\n",
       "      <th>stalk-color-above-ring_gray</th>\n",
       "      <th>stalk-color-above-ring_orange</th>\n",
       "      <th>stalk-color-above-ring_pink</th>\n",
       "      <th>stalk-color-above-ring_red</th>\n",
       "      <th>stalk-color-above-ring_white</th>\n",
       "      <th>stalk-color-above-ring_yellow</th>\n",
       "      <th>stalk-color-below-ring_buff</th>\n",
       "      <th>stalk-color-below-ring_cinammon</th>\n",
       "      <th>stalk-color-below-ring_gray</th>\n",
       "      <th>stalk-color-below-ring_orange</th>\n",
       "      <th>stalk-color-below-ring_pink</th>\n",
       "      <th>stalk-color-below-ring_red</th>\n",
       "      <th>stalk-color-below-ring_white</th>\n",
       "      <th>stalk-color-below-ring_yellow</th>\n",
       "      <th>stalk-root_club_1</th>\n",
       "      <th>stalk-root_equal_1</th>\n",
       "      <th>stalk-root_nan_1</th>\n",
       "      <th>stalk-root_rooted_1</th>\n",
       "      <th>stalk-shape_tapering</th>\n",
       "      <th>stalk-surface-above-ring_scaly</th>\n",
       "      <th>stalk-surface-above-ring_silky</th>\n",
       "      <th>stalk-surface-above-ring_smooth</th>\n",
       "      <th>stalk-surface-below-ring_scaly</th>\n",
       "      <th>stalk-surface-below-ring_silky</th>\n",
       "      <th>stalk-surface-below-ring_smooth</th>\n",
       "      <th>veil-color_orange</th>\n",
       "      <th>veil-color_white</th>\n",
       "      <th>veil-color_yellow</th>\n",
       "    </tr>\n",
       "  </thead>\n",
       "  <tbody>\n",
       "    <tr>\n",
       "      <th>0</th>\n",
       "      <td>0</td>\n",
       "      <td>1</td>\n",
       "      <td>1</td>\n",
       "      <td>0</td>\n",
       "      <td>0</td>\n",
       "      <td>0</td>\n",
       "      <td>0</td>\n",
       "      <td>0</td>\n",
       "      <td>0</td>\n",
       "      <td>1</td>\n",
       "      <td>0</td>\n",
       "      <td>0</td>\n",
       "      <td>0</td>\n",
       "      <td>1</td>\n",
       "      <td>0</td>\n",
       "      <td>0</td>\n",
       "      <td>0</td>\n",
       "      <td>0</td>\n",
       "      <td>0</td>\n",
       "      <td>0</td>\n",
       "      <td>0</td>\n",
       "      <td>1</td>\n",
       "      <td>0</td>\n",
       "      <td>0</td>\n",
       "      <td>0</td>\n",
       "      <td>0</td>\n",
       "      <td>0</td>\n",
       "      <td>0</td>\n",
       "      <td>0</td>\n",
       "      <td>1</td>\n",
       "      <td>0</td>\n",
       "      <td>0</td>\n",
       "      <td>0</td>\n",
       "      <td>0</td>\n",
       "      <td>0</td>\n",
       "      <td>0</td>\n",
       "      <td>0</td>\n",
       "      <td>0</td>\n",
       "      <td>0</td>\n",
       "      <td>0</td>\n",
       "      <td>1</td>\n",
       "      <td>0</td>\n",
       "      <td>0</td>\n",
       "      <td>0</td>\n",
       "      <td>0</td>\n",
       "      <td>0</td>\n",
       "      <td>1</td>\n",
       "      <td>0</td>\n",
       "      <td>0</td>\n",
       "      <td>0</td>\n",
       "      <td>0</td>\n",
       "      <td>0</td>\n",
       "      <td>1</td>\n",
       "      <td>0</td>\n",
       "      <td>0</td>\n",
       "      <td>0</td>\n",
       "      <td>0</td>\n",
       "      <td>1</td>\n",
       "      <td>0</td>\n",
       "      <td>0</td>\n",
       "      <td>0</td>\n",
       "      <td>0</td>\n",
       "      <td>0</td>\n",
       "      <td>0</td>\n",
       "      <td>0</td>\n",
       "      <td>0</td>\n",
       "      <td>0</td>\n",
       "      <td>0</td>\n",
       "      <td>0</td>\n",
       "      <td>0</td>\n",
       "      <td>1</td>\n",
       "      <td>0</td>\n",
       "      <td>0</td>\n",
       "      <td>0</td>\n",
       "      <td>0</td>\n",
       "      <td>0</td>\n",
       "      <td>1</td>\n",
       "      <td>0</td>\n",
       "      <td>0</td>\n",
       "      <td>0</td>\n",
       "      <td>0</td>\n",
       "      <td>0</td>\n",
       "      <td>0</td>\n",
       "      <td>0</td>\n",
       "      <td>0</td>\n",
       "      <td>0</td>\n",
       "      <td>1</td>\n",
       "      <td>0</td>\n",
       "      <td>0</td>\n",
       "      <td>1</td>\n",
       "      <td>0</td>\n",
       "      <td>0</td>\n",
       "      <td>1</td>\n",
       "      <td>0</td>\n",
       "      <td>1</td>\n",
       "      <td>0</td>\n",
       "    </tr>\n",
       "  </tbody>\n",
       "</table>\n",
       "</div>"
      ],
      "text/plain": [
       "   Unnamed: 0  ring-number  bruises_true  cap-color_buff  cap-color_cinammon  \\\n",
       "0           0            1             1               0                   0   \n",
       "\n",
       "   cap-color_gray  cap-color_green  cap-color_pink  cap-color_purple  \\\n",
       "0               0                0               0                 0   \n",
       "\n",
       "   cap-color_red  cap-color_white  cap-color_yellow  cap-shape_conical  \\\n",
       "0              1                0                 0                  0   \n",
       "\n",
       "   cap-shape_convex  cap-shape_flat  cap-shape_knobbed  cap-shape_sunken  \\\n",
       "0                 1               0                  0                 0   \n",
       "\n",
       "   cap-surface_grooves  cap-surface_scaly  cap-surface_smooth  \\\n",
       "0                    0                  0                   0   \n",
       "\n",
       "   class_poisonous  gill-attachment_free  gill-color_brown  gill-color_buff  \\\n",
       "0                0                     1                 0                0   \n",
       "\n",
       "   gill-color_chocolate  gill-color_gray  gill-color_green  gill-color_orange  \\\n",
       "0                     0                0                 0                  0   \n",
       "\n",
       "   gill-color_pink  gill-color_purple  gill-color_red  gill-color_white  \\\n",
       "0                0                  1               0                 0   \n",
       "\n",
       "   gill-color_yellow  gill-size_narrow  gill-spacing_crowded  habitat_leaves  \\\n",
       "0                  0                 0                     0               0   \n",
       "\n",
       "   habitat_meadows  habitat_paths  habitat_urban  habitat_waste  \\\n",
       "0                0              0              0              0   \n",
       "\n",
       "   habitat_woods  odor_anise  odor_creosote  odor_fishy  odor_foul  \\\n",
       "0              1           0              0           0          0   \n",
       "\n",
       "   odor_musty  odor_none  odor_pungent  odor_spicy  population_clustered  \\\n",
       "0           0          1             0           0                     0   \n",
       "\n",
       "   population_numerous  population_scattered  population_several  \\\n",
       "0                    0                     0                   1   \n",
       "\n",
       "   population_solitary  ring-type_flaring  ring-type_large  ring-type_none  \\\n",
       "0                    0                  0                0               0   \n",
       "\n",
       "   ring-type_pendant  spore-print-color_brown  spore-print-color_buff  \\\n",
       "0                  1                        0                       0   \n",
       "\n",
       "   spore-print-color_chocolate  spore-print-color_green  \\\n",
       "0                            0                        0   \n",
       "\n",
       "   spore-print-color_orange  spore-print-color_purple  \\\n",
       "0                         0                         0   \n",
       "\n",
       "   spore-print-color_white  spore-print-color_yellow  \\\n",
       "0                        0                         0   \n",
       "\n",
       "   stalk-color-above-ring_buff  stalk-color-above-ring_cinammon  \\\n",
       "0                            0                                0   \n",
       "\n",
       "   stalk-color-above-ring_gray  stalk-color-above-ring_orange  \\\n",
       "0                            0                              0   \n",
       "\n",
       "   stalk-color-above-ring_pink  stalk-color-above-ring_red  \\\n",
       "0                            1                           0   \n",
       "\n",
       "   stalk-color-above-ring_white  stalk-color-above-ring_yellow  \\\n",
       "0                             0                              0   \n",
       "\n",
       "   stalk-color-below-ring_buff  stalk-color-below-ring_cinammon  \\\n",
       "0                            0                                0   \n",
       "\n",
       "   stalk-color-below-ring_gray  stalk-color-below-ring_orange  \\\n",
       "0                            1                              0   \n",
       "\n",
       "   stalk-color-below-ring_pink  stalk-color-below-ring_red  \\\n",
       "0                            0                           0   \n",
       "\n",
       "   stalk-color-below-ring_white  stalk-color-below-ring_yellow  \\\n",
       "0                             0                              0   \n",
       "\n",
       "   stalk-root_club_1  stalk-root_equal_1  stalk-root_nan_1  \\\n",
       "0                  0                   0                 0   \n",
       "\n",
       "   stalk-root_rooted_1  stalk-shape_tapering  stalk-surface-above-ring_scaly  \\\n",
       "0                    0                     1                               0   \n",
       "\n",
       "   stalk-surface-above-ring_silky  stalk-surface-above-ring_smooth  \\\n",
       "0                               0                                1   \n",
       "\n",
       "   stalk-surface-below-ring_scaly  stalk-surface-below-ring_silky  \\\n",
       "0                               0                               0   \n",
       "\n",
       "   stalk-surface-below-ring_smooth  veil-color_orange  veil-color_white  \\\n",
       "0                                1                  0                 1   \n",
       "\n",
       "   veil-color_yellow  \n",
       "0                  0  "
      ]
     },
     "execution_count": 86,
     "metadata": {},
     "output_type": "execute_result"
    }
   ],
   "source": [
    "pd.set_option('display.max_columns', None)\n",
    "df.head(1)"
   ]
  },
  {
   "cell_type": "code",
   "execution_count": 87,
   "id": "fe9cb53f",
   "metadata": {},
   "outputs": [],
   "source": [
    "# remove this col\n",
    "df = df.drop('Unnamed: 0', axis=1)"
   ]
  },
  {
   "cell_type": "markdown",
   "id": "fea57cbc",
   "metadata": {},
   "source": [
    "## The label is class_poisonous "
   ]
  },
  {
   "cell_type": "code",
   "execution_count": 88,
   "id": "1175480f",
   "metadata": {},
   "outputs": [
    {
     "data": {
      "text/plain": [
       "0    2000\n",
       "1    2000\n",
       "Name: class_poisonous, dtype: int64"
      ]
     },
     "execution_count": 88,
     "metadata": {},
     "output_type": "execute_result"
    }
   ],
   "source": [
    "df[\"class_poisonous\"].value_counts()"
   ]
  },
  {
   "cell_type": "markdown",
   "id": "2964c63c",
   "metadata": {},
   "source": [
    "###### equal amount of poisonous vs edible "
   ]
  },
  {
   "cell_type": "markdown",
   "id": "678b27f7",
   "metadata": {},
   "source": [
    "## Break data train and test set"
   ]
  },
  {
   "cell_type": "code",
   "execution_count": 89,
   "id": "bac58e2c",
   "metadata": {},
   "outputs": [],
   "source": [
    "y = df['class_poisonous']\n",
    "X = df.drop('class_poisonous', axis=1).values\n",
    "\n",
    "X_train, X_test, y_train, y_test = train_test_split(X, y, test_size=0.2, shuffle=True, stratify=y)"
   ]
  },
  {
   "cell_type": "code",
   "execution_count": 90,
   "id": "83add237",
   "metadata": {},
   "outputs": [
    {
     "data": {
      "text/plain": [
       "((3200, 94), (800, 94))"
      ]
     },
     "execution_count": 90,
     "metadata": {},
     "output_type": "execute_result"
    }
   ],
   "source": [
    "X_train.shape, X_test.shape"
   ]
  },
  {
   "cell_type": "markdown",
   "id": "34d9159e",
   "metadata": {},
   "source": [
    "### Start by Training Logistic Regression"
   ]
  },
  {
   "cell_type": "markdown",
   "id": "028751a0",
   "metadata": {},
   "source": [
    "### Create a pipeline "
   ]
  },
  {
   "cell_type": "code",
   "execution_count": 91,
   "id": "2d9a72ef",
   "metadata": {},
   "outputs": [],
   "source": [
    "pipe = Pipeline(steps=[('lg', LogisticRegression())])"
   ]
  },
  {
   "cell_type": "code",
   "execution_count": 92,
   "id": "9525d733",
   "metadata": {},
   "outputs": [],
   "source": [
    "param_grid = {\n",
    "    'lg__solver': ['lbfgs', 'liblinear', 'newton-cholesky', 'sag', 'saga'],  \n",
    "    'lg__max_iter': [50,100,200,300]}"
   ]
  },
  {
   "cell_type": "code",
   "execution_count": null,
   "id": "750d3bf1",
   "metadata": {},
   "outputs": [],
   "source": [
    "search = GridSearchCV(pipe, param_grid, n_jobs=-1, cv=5, refit=True)\n",
    "search.fit(X_train, y_train)"
   ]
  },
  {
   "cell_type": "code",
   "execution_count": 94,
   "id": "5a87c9a0",
   "metadata": {},
   "outputs": [
    {
     "name": "stdout",
     "output_type": "stream",
     "text": [
      "Best CV score = 0.999:\n",
      "Best parameters:  {'lg__max_iter': 50, 'lg__solver': 'lbfgs'}\n"
     ]
    }
   ],
   "source": [
    "print(\"Best CV score = %0.3f:\" % search.best_score_)\n",
    "print(\"Best parameters: \", search.best_params_)\n",
    "\n",
    "# store the best params and best model for later use\n",
    "LG_best_params = search.best_params_\n",
    "LG_best_model = search.best_estimator_"
   ]
  },
  {
   "cell_type": "markdown",
   "id": "02c697cc",
   "metadata": {},
   "source": [
    "###### We can see that the highest accuracy of 99% was achived by using the solved newton-cholesky and max_iter of 50\n"
   ]
  },
  {
   "cell_type": "markdown",
   "id": "01cd8365",
   "metadata": {},
   "source": [
    "## Now Train SVM"
   ]
  },
  {
   "cell_type": "code",
   "execution_count": 95,
   "id": "a3ce71da",
   "metadata": {},
   "outputs": [
    {
     "name": "stdout",
     "output_type": "stream",
     "text": [
      "Best CV score = 1.000:\n",
      "Best parameters:  {'svm__C': 0.1, 'svm__gamma': 1, 'svm__kernel': 'poly'}\n"
     ]
    }
   ],
   "source": [
    "pipe = Pipeline(steps=[('svm', svm.SVC(probability=True))])\n",
    "param_grid = {\n",
    "    'svm__C': [0.1, 1, 10, 100],  \n",
    "    'svm__gamma': [1, 0.1, 0.01, 0.001], \n",
    "    'svm__kernel': ['rbf', 'linear', 'poly']}\n",
    "search = GridSearchCV(pipe, param_grid, n_jobs=-1, cv=5, refit=True)\n",
    "search.fit(X_train, y_train)\n",
    "print(\"Best CV score = %0.3f:\" % search.best_score_)\n",
    "print(\"Best parameters: \", search.best_params_)\n",
    "\n",
    "# store the best params and best model for later use\n",
    "SVM_best_params = search.best_params_\n",
    "SVM_best_model = search.best_estimator_"
   ]
  },
  {
   "cell_type": "markdown",
   "id": "47161122",
   "metadata": {},
   "source": [
    "###### We can see that the highest accuracy of 100% was achived by using a C value of 0.1, gamma of 1 \n",
    "and the poly kernal\n"
   ]
  },
  {
   "cell_type": "markdown",
   "id": "0e71852c",
   "metadata": {},
   "source": [
    "## Now train Random Forest"
   ]
  },
  {
   "cell_type": "code",
   "execution_count": 96,
   "id": "5f700493",
   "metadata": {},
   "outputs": [
    {
     "name": "stdout",
     "output_type": "stream",
     "text": [
      "Best CV score = 1.000:\n",
      "Best parameters:  {'rf__max_depth': None, 'rf__min_samples_leaf': 1, 'rf__min_samples_split': 2, 'rf__n_estimators': 100}\n"
     ]
    }
   ],
   "source": [
    "pipe = Pipeline(steps=[('rf', RandomForestClassifier())])\n",
    "param_grid = {\n",
    "    'rf__n_estimators': [100, 200, 300], # Number of trees in the forest\n",
    "    'rf__max_depth': [None, 5, 10], # Maximum depth of the trees\n",
    "    'rf__min_samples_split': [2, 5, 10], # Minimum number of samples required to split a node\n",
    "    'rf__min_samples_leaf': [1, 2, 4] # Minimum number of samples required at each leaf node\n",
    "}\n",
    "search = GridSearchCV(pipe, param_grid, n_jobs=-1, cv=5, refit=True)\n",
    "search.fit(X_train, y_train)\n",
    "print(\"Best CV score = %0.3f:\" % search.best_score_)\n",
    "print(\"Best parameters: \", search.best_params_)\n",
    "\n",
    "#store the best params and best model for later use\n",
    "RF_best_params = search.best_params_\n",
    "RF_best_model = search.best_estimator_"
   ]
  },
  {
   "cell_type": "markdown",
   "id": "0b60a786",
   "metadata": {},
   "source": [
    "We can see the Random Forest performed best using a max depth of none, min_sample_leaf of 1 \n",
    "min_samples_split of 2 and n_estimators set to 100"
   ]
  },
  {
   "cell_type": "markdown",
   "id": "83862b3e",
   "metadata": {},
   "source": [
    "## Now train naive bayes "
   ]
  },
  {
   "cell_type": "code",
   "execution_count": 97,
   "id": "9a5749a9",
   "metadata": {},
   "outputs": [],
   "source": [
    "from sklearn.naive_bayes import GaussianNB"
   ]
  },
  {
   "cell_type": "markdown",
   "id": "c578ee4f",
   "metadata": {},
   "source": [
    "#### using an article we found online https://medium.com/analytics-vidhya/how-to-improve-naive-bayes-9fa698e14cba \n",
    "#### we applied param tuning "
   ]
  },
  {
   "cell_type": "code",
   "execution_count": 99,
   "id": "3be4938a",
   "metadata": {},
   "outputs": [
    {
     "name": "stdout",
     "output_type": "stream",
     "text": [
      "Fitting 5 folds for each of 100 candidates, totalling 500 fits\n",
      "GaussianNB(var_smoothing=0.02848035868435802)\n",
      "Best CV score = 0.996:\n"
     ]
    }
   ],
   "source": [
    "param_grid_nb = {\n",
    "    'var_smoothing': np.logspace(0,-9, num=100)\n",
    "}\n",
    "search = GridSearchCV(estimator=GaussianNB(), param_grid=param_grid_nb, verbose=1, cv=5, n_jobs=-1)\n",
    "search.fit(X_train, y_train)\n",
    "print(search.best_estimator_)\n",
    "print(\"Best CV score = %0.3f:\" % search.best_score_)\n",
    "#store the best params and best model for later use\n",
    "NB_best_params = search.best_params_\n",
    "NB_best_model = search.best_estimator_"
   ]
  },
  {
   "cell_type": "markdown",
   "id": "6a9d792d",
   "metadata": {},
   "source": [
    "###### Using var smoothing of 0.0284we achieved an accuracy of 99.6%"
   ]
  },
  {
   "cell_type": "markdown",
   "id": "5fbc6154",
   "metadata": {},
   "source": [
    "## Use each model to make predictions on the test data "
   ]
  },
  {
   "cell_type": "markdown",
   "id": "dabe5f93",
   "metadata": {},
   "source": [
    "#### Calculating the accruacy, precision, recall and f1_score for each model using the  classification_report() sklearn "
   ]
  },
  {
   "cell_type": "code",
   "execution_count": 100,
   "id": "2a5b9b08",
   "metadata": {},
   "outputs": [],
   "source": [
    "from sklearn.metrics import classification_report"
   ]
  },
  {
   "cell_type": "code",
   "execution_count": 101,
   "id": "1d91b042",
   "metadata": {},
   "outputs": [],
   "source": [
    "def evaluate(X_test, y_test, model):\n",
    "    y_pred = model.predict(X_test)\n",
    "    print(classification_report(y_test, y_pred, target_names=[\"Edible\",\"Poisonous\"]))"
   ]
  },
  {
   "cell_type": "markdown",
   "id": "7f08a66b",
   "metadata": {},
   "source": [
    "# Logistic Regression"
   ]
  },
  {
   "cell_type": "code",
   "execution_count": 102,
   "id": "56f00fb5",
   "metadata": {},
   "outputs": [
    {
     "name": "stdout",
     "output_type": "stream",
     "text": [
      "              precision    recall  f1-score   support\n",
      "\n",
      "      Edible       1.00      1.00      1.00       400\n",
      "   Poisonous       1.00      1.00      1.00       400\n",
      "\n",
      "    accuracy                           1.00       800\n",
      "   macro avg       1.00      1.00      1.00       800\n",
      "weighted avg       1.00      1.00      1.00       800\n",
      "\n"
     ]
    }
   ],
   "source": [
    "evaluate(X_test, y_test, LG_best_model)"
   ]
  },
  {
   "cell_type": "markdown",
   "id": "4fcc54df",
   "metadata": {},
   "source": [
    "# SVM"
   ]
  },
  {
   "cell_type": "code",
   "execution_count": 103,
   "id": "a3e40adc",
   "metadata": {},
   "outputs": [
    {
     "name": "stdout",
     "output_type": "stream",
     "text": [
      "              precision    recall  f1-score   support\n",
      "\n",
      "      Edible       1.00      1.00      1.00       400\n",
      "   Poisonous       1.00      1.00      1.00       400\n",
      "\n",
      "    accuracy                           1.00       800\n",
      "   macro avg       1.00      1.00      1.00       800\n",
      "weighted avg       1.00      1.00      1.00       800\n",
      "\n"
     ]
    }
   ],
   "source": [
    "evaluate(X_test, y_test, SVM_best_model)"
   ]
  },
  {
   "cell_type": "markdown",
   "id": "450afa3f",
   "metadata": {},
   "source": [
    "# Random Forest"
   ]
  },
  {
   "cell_type": "code",
   "execution_count": 104,
   "id": "08d63371",
   "metadata": {},
   "outputs": [
    {
     "name": "stdout",
     "output_type": "stream",
     "text": [
      "              precision    recall  f1-score   support\n",
      "\n",
      "      Edible       1.00      1.00      1.00       400\n",
      "   Poisonous       1.00      1.00      1.00       400\n",
      "\n",
      "    accuracy                           1.00       800\n",
      "   macro avg       1.00      1.00      1.00       800\n",
      "weighted avg       1.00      1.00      1.00       800\n",
      "\n"
     ]
    }
   ],
   "source": [
    "evaluate(X_test, y_test, RF_best_model)"
   ]
  },
  {
   "cell_type": "markdown",
   "id": "cfcf637f",
   "metadata": {},
   "source": [
    "# Naive Bayes"
   ]
  },
  {
   "cell_type": "code",
   "execution_count": 105,
   "id": "2f0434b9",
   "metadata": {},
   "outputs": [
    {
     "name": "stdout",
     "output_type": "stream",
     "text": [
      "              precision    recall  f1-score   support\n",
      "\n",
      "      Edible       0.99      0.99      0.99       400\n",
      "   Poisonous       0.99      0.99      0.99       400\n",
      "\n",
      "    accuracy                           0.99       800\n",
      "   macro avg       0.99      0.99      0.99       800\n",
      "weighted avg       0.99      0.99      0.99       800\n",
      "\n"
     ]
    }
   ],
   "source": [
    "evaluate(X_test, y_test, NB_best_model)"
   ]
  },
  {
   "cell_type": "markdown",
   "id": "450ea215",
   "metadata": {},
   "source": [
    "#### Multiple models achieving an accuracy of 100% may indicate this classification problem is too simple for machine learning algorithms, it may also be due to the size of the training and test sets which are quiet small\n"
   ]
  },
  {
   "cell_type": "code",
   "execution_count": null,
   "id": "f1f94471",
   "metadata": {},
   "outputs": [],
   "source": [
    "### We tried changing the size of trai:test. This had no impact and the accuracy stayed at 100%"
   ]
  },
  {
   "cell_type": "code",
   "execution_count": 111,
   "id": "90832a38",
   "metadata": {},
   "outputs": [
    {
     "data": {
      "text/html": [
       "<style>#sk-container-id-5 {color: black;background-color: white;}#sk-container-id-5 pre{padding: 0;}#sk-container-id-5 div.sk-toggleable {background-color: white;}#sk-container-id-5 label.sk-toggleable__label {cursor: pointer;display: block;width: 100%;margin-bottom: 0;padding: 0.3em;box-sizing: border-box;text-align: center;}#sk-container-id-5 label.sk-toggleable__label-arrow:before {content: \"▸\";float: left;margin-right: 0.25em;color: #696969;}#sk-container-id-5 label.sk-toggleable__label-arrow:hover:before {color: black;}#sk-container-id-5 div.sk-estimator:hover label.sk-toggleable__label-arrow:before {color: black;}#sk-container-id-5 div.sk-toggleable__content {max-height: 0;max-width: 0;overflow: hidden;text-align: left;background-color: #f0f8ff;}#sk-container-id-5 div.sk-toggleable__content pre {margin: 0.2em;color: black;border-radius: 0.25em;background-color: #f0f8ff;}#sk-container-id-5 input.sk-toggleable__control:checked~div.sk-toggleable__content {max-height: 200px;max-width: 100%;overflow: auto;}#sk-container-id-5 input.sk-toggleable__control:checked~label.sk-toggleable__label-arrow:before {content: \"▾\";}#sk-container-id-5 div.sk-estimator input.sk-toggleable__control:checked~label.sk-toggleable__label {background-color: #d4ebff;}#sk-container-id-5 div.sk-label input.sk-toggleable__control:checked~label.sk-toggleable__label {background-color: #d4ebff;}#sk-container-id-5 input.sk-hidden--visually {border: 0;clip: rect(1px 1px 1px 1px);clip: rect(1px, 1px, 1px, 1px);height: 1px;margin: -1px;overflow: hidden;padding: 0;position: absolute;width: 1px;}#sk-container-id-5 div.sk-estimator {font-family: monospace;background-color: #f0f8ff;border: 1px dotted black;border-radius: 0.25em;box-sizing: border-box;margin-bottom: 0.5em;}#sk-container-id-5 div.sk-estimator:hover {background-color: #d4ebff;}#sk-container-id-5 div.sk-parallel-item::after {content: \"\";width: 100%;border-bottom: 1px solid gray;flex-grow: 1;}#sk-container-id-5 div.sk-label:hover label.sk-toggleable__label {background-color: #d4ebff;}#sk-container-id-5 div.sk-serial::before {content: \"\";position: absolute;border-left: 1px solid gray;box-sizing: border-box;top: 0;bottom: 0;left: 50%;z-index: 0;}#sk-container-id-5 div.sk-serial {display: flex;flex-direction: column;align-items: center;background-color: white;padding-right: 0.2em;padding-left: 0.2em;position: relative;}#sk-container-id-5 div.sk-item {position: relative;z-index: 1;}#sk-container-id-5 div.sk-parallel {display: flex;align-items: stretch;justify-content: center;background-color: white;position: relative;}#sk-container-id-5 div.sk-item::before, #sk-container-id-5 div.sk-parallel-item::before {content: \"\";position: absolute;border-left: 1px solid gray;box-sizing: border-box;top: 0;bottom: 0;left: 50%;z-index: -1;}#sk-container-id-5 div.sk-parallel-item {display: flex;flex-direction: column;z-index: 1;position: relative;background-color: white;}#sk-container-id-5 div.sk-parallel-item:first-child::after {align-self: flex-end;width: 50%;}#sk-container-id-5 div.sk-parallel-item:last-child::after {align-self: flex-start;width: 50%;}#sk-container-id-5 div.sk-parallel-item:only-child::after {width: 0;}#sk-container-id-5 div.sk-dashed-wrapped {border: 1px dashed gray;margin: 0 0.4em 0.5em 0.4em;box-sizing: border-box;padding-bottom: 0.4em;background-color: white;}#sk-container-id-5 div.sk-label label {font-family: monospace;font-weight: bold;display: inline-block;line-height: 1.2em;}#sk-container-id-5 div.sk-label-container {text-align: center;}#sk-container-id-5 div.sk-container {/* jupyter's `normalize.less` sets `[hidden] { display: none; }` but bootstrap.min.css set `[hidden] { display: none !important; }` so we also need the `!important` here to be able to override the default hidden behavior on the sphinx rendered scikit-learn.org. See: https://github.com/scikit-learn/scikit-learn/issues/21755 */display: inline-block !important;position: relative;}#sk-container-id-5 div.sk-text-repr-fallback {display: none;}</style><div id=\"sk-container-id-5\" class=\"sk-top-container\"><div class=\"sk-text-repr-fallback\"><pre>RandomForestClassifier()</pre><b>In a Jupyter environment, please rerun this cell to show the HTML representation or trust the notebook. <br />On GitHub, the HTML representation is unable to render, please try loading this page with nbviewer.org.</b></div><div class=\"sk-container\" hidden><div class=\"sk-item\"><div class=\"sk-estimator sk-toggleable\"><input class=\"sk-toggleable__control sk-hidden--visually\" id=\"sk-estimator-id-11\" type=\"checkbox\" checked><label for=\"sk-estimator-id-11\" class=\"sk-toggleable__label sk-toggleable__label-arrow\">RandomForestClassifier</label><div class=\"sk-toggleable__content\"><pre>RandomForestClassifier()</pre></div></div></div></div></div>"
      ],
      "text/plain": [
       "RandomForestClassifier()"
      ]
     },
     "execution_count": 111,
     "metadata": {},
     "output_type": "execute_result"
    }
   ],
   "source": [
    "X_train2, X_test2, y_train2, y_test2 = train_test_split(X, y, test_size=0.4, shuffle=True, stratify=y)\n",
    "\n",
    "# random forest using best params found\n",
    "rf = RandomForestClassifier(max_depth=None, min_samples_leaf=1, \n",
    "                                min_samples_split=2, n_estimators=100)\n",
    "rf.fit(X_train2, y_train2)"
   ]
  },
  {
   "cell_type": "code",
   "execution_count": 112,
   "id": "15e7b287",
   "metadata": {},
   "outputs": [
    {
     "name": "stdout",
     "output_type": "stream",
     "text": [
      "              precision    recall  f1-score   support\n",
      "\n",
      "      Edible       1.00      1.00      1.00       800\n",
      "   Poisonous       1.00      1.00      1.00       800\n",
      "\n",
      "    accuracy                           1.00      1600\n",
      "   macro avg       1.00      1.00      1.00      1600\n",
      "weighted avg       1.00      1.00      1.00      1600\n",
      "\n"
     ]
    }
   ],
   "source": [
    "evaluate(X_test2, y_test2, rf)"
   ]
  },
  {
   "cell_type": "code",
   "execution_count": null,
   "id": "083b3e00",
   "metadata": {},
   "outputs": [],
   "source": []
  }
 ],
 "metadata": {
  "kernelspec": {
   "display_name": "Python 3 (ipykernel)",
   "language": "python",
   "name": "python3"
  },
  "language_info": {
   "codemirror_mode": {
    "name": "ipython",
    "version": 3
   },
   "file_extension": ".py",
   "mimetype": "text/x-python",
   "name": "python",
   "nbconvert_exporter": "python",
   "pygments_lexer": "ipython3",
   "version": "3.9.10"
  }
 },
 "nbformat": 4,
 "nbformat_minor": 5
}
