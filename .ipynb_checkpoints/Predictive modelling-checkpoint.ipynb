{
 "cells": [
  {
   "cell_type": "code",
   "execution_count": 1,
   "id": "19ea95aa",
   "metadata": {},
   "outputs": [],
   "source": [
    "import pandas as pd\n",
    "import numpy as np\n",
    "from sklearn.pipeline import Pipeline, make_pipeline, FeatureUnion\n",
    "from sklearn.compose import ColumnTransformer\n",
    "from sklearn.base import BaseEstimator, TransformerMixin\n",
    "from sklearn.preprocessing import StandardScaler, RobustScaler, FunctionTransformer\n",
    "from sklearn.model_selection import train_test_split, GridSearchCV\n",
    "from sklearn.linear_model import LogisticRegression\n",
    "from sklearn import svm\n",
    "from sklearn.ensemble import RandomForestClassifier\n",
    "from sklearn.metrics import roc_curve, auc, accuracy_score, precision_recall_fscore_support\n",
    "import pickle\n",
    "import matplotlib.pyplot as plt\n",
    "%matplotlib inline"
   ]
  },
  {
   "cell_type": "markdown",
   "id": "5cb3fb8f",
   "metadata": {},
   "source": [
    "## Load the prepared dataset "
   ]
  },
  {
   "cell_type": "code",
   "execution_count": 2,
   "id": "8f05798e",
   "metadata": {},
   "outputs": [],
   "source": [
    "df = pd.read_csv(\"prepared_mushrooms_sample.csv\")"
   ]
  },
  {
   "cell_type": "code",
   "execution_count": 3,
   "id": "6cc5c2f2",
   "metadata": {},
   "outputs": [
    {
     "data": {
      "text/html": [
       "<div>\n",
       "<style scoped>\n",
       "    .dataframe tbody tr th:only-of-type {\n",
       "        vertical-align: middle;\n",
       "    }\n",
       "\n",
       "    .dataframe tbody tr th {\n",
       "        vertical-align: top;\n",
       "    }\n",
       "\n",
       "    .dataframe thead th {\n",
       "        text-align: right;\n",
       "    }\n",
       "</style>\n",
       "<table border=\"1\" class=\"dataframe\">\n",
       "  <thead>\n",
       "    <tr style=\"text-align: right;\">\n",
       "      <th></th>\n",
       "      <th>Unnamed: 0</th>\n",
       "      <th>ring-number</th>\n",
       "      <th>bruises_true</th>\n",
       "      <th>cap-color_buff</th>\n",
       "      <th>cap-color_cinammon</th>\n",
       "      <th>cap-color_gray</th>\n",
       "      <th>cap-color_green</th>\n",
       "      <th>cap-color_pink</th>\n",
       "      <th>cap-color_purple</th>\n",
       "      <th>cap-color_red</th>\n",
       "      <th>cap-color_white</th>\n",
       "      <th>cap-color_yellow</th>\n",
       "      <th>cap-shape_conical</th>\n",
       "      <th>cap-shape_convex</th>\n",
       "      <th>cap-shape_flat</th>\n",
       "      <th>cap-shape_knobbed</th>\n",
       "      <th>cap-shape_sunken</th>\n",
       "      <th>cap-surface_grooves</th>\n",
       "      <th>cap-surface_scaly</th>\n",
       "      <th>cap-surface_smooth</th>\n",
       "      <th>class_poisonous</th>\n",
       "      <th>gill-attachment_free</th>\n",
       "      <th>gill-color_brown</th>\n",
       "      <th>gill-color_buff</th>\n",
       "      <th>gill-color_chocolate</th>\n",
       "      <th>gill-color_gray</th>\n",
       "      <th>gill-color_green</th>\n",
       "      <th>gill-color_orange</th>\n",
       "      <th>gill-color_pink</th>\n",
       "      <th>gill-color_purple</th>\n",
       "      <th>gill-color_red</th>\n",
       "      <th>gill-color_white</th>\n",
       "      <th>gill-color_yellow</th>\n",
       "      <th>gill-size_narrow</th>\n",
       "      <th>gill-spacing_crowded</th>\n",
       "      <th>habitat_leaves</th>\n",
       "      <th>habitat_meadows</th>\n",
       "      <th>habitat_paths</th>\n",
       "      <th>habitat_urban</th>\n",
       "      <th>habitat_waste</th>\n",
       "      <th>habitat_woods</th>\n",
       "      <th>odor_anise</th>\n",
       "      <th>odor_creosote</th>\n",
       "      <th>odor_fishy</th>\n",
       "      <th>odor_foul</th>\n",
       "      <th>odor_musty</th>\n",
       "      <th>odor_none</th>\n",
       "      <th>odor_pungent</th>\n",
       "      <th>odor_spicy</th>\n",
       "      <th>population_clustered</th>\n",
       "      <th>population_numerous</th>\n",
       "      <th>population_scattered</th>\n",
       "      <th>population_several</th>\n",
       "      <th>population_solitary</th>\n",
       "      <th>ring-type_flaring</th>\n",
       "      <th>ring-type_large</th>\n",
       "      <th>ring-type_none</th>\n",
       "      <th>ring-type_pendant</th>\n",
       "      <th>spore-print-color_brown</th>\n",
       "      <th>spore-print-color_buff</th>\n",
       "      <th>spore-print-color_chocolate</th>\n",
       "      <th>spore-print-color_green</th>\n",
       "      <th>spore-print-color_orange</th>\n",
       "      <th>spore-print-color_purple</th>\n",
       "      <th>spore-print-color_white</th>\n",
       "      <th>spore-print-color_yellow</th>\n",
       "      <th>stalk-color-above-ring_buff</th>\n",
       "      <th>stalk-color-above-ring_cinammon</th>\n",
       "      <th>stalk-color-above-ring_gray</th>\n",
       "      <th>stalk-color-above-ring_orange</th>\n",
       "      <th>stalk-color-above-ring_pink</th>\n",
       "      <th>stalk-color-above-ring_red</th>\n",
       "      <th>stalk-color-above-ring_white</th>\n",
       "      <th>stalk-color-above-ring_yellow</th>\n",
       "      <th>stalk-color-below-ring_buff</th>\n",
       "      <th>stalk-color-below-ring_cinammon</th>\n",
       "      <th>stalk-color-below-ring_gray</th>\n",
       "      <th>stalk-color-below-ring_orange</th>\n",
       "      <th>stalk-color-below-ring_pink</th>\n",
       "      <th>stalk-color-below-ring_red</th>\n",
       "      <th>stalk-color-below-ring_white</th>\n",
       "      <th>stalk-color-below-ring_yellow</th>\n",
       "      <th>stalk-root_club_1</th>\n",
       "      <th>stalk-root_equal_1</th>\n",
       "      <th>stalk-root_nan_1</th>\n",
       "      <th>stalk-root_rooted_1</th>\n",
       "      <th>stalk-shape_tapering</th>\n",
       "      <th>stalk-surface-above-ring_scaly</th>\n",
       "      <th>stalk-surface-above-ring_silky</th>\n",
       "      <th>stalk-surface-above-ring_smooth</th>\n",
       "      <th>stalk-surface-below-ring_scaly</th>\n",
       "      <th>stalk-surface-below-ring_silky</th>\n",
       "      <th>stalk-surface-below-ring_smooth</th>\n",
       "      <th>veil-color_orange</th>\n",
       "      <th>veil-color_white</th>\n",
       "      <th>veil-color_yellow</th>\n",
       "    </tr>\n",
       "  </thead>\n",
       "  <tbody>\n",
       "    <tr>\n",
       "      <th>0</th>\n",
       "      <td>0</td>\n",
       "      <td>1</td>\n",
       "      <td>1</td>\n",
       "      <td>0</td>\n",
       "      <td>0</td>\n",
       "      <td>0</td>\n",
       "      <td>0</td>\n",
       "      <td>0</td>\n",
       "      <td>0</td>\n",
       "      <td>1</td>\n",
       "      <td>0</td>\n",
       "      <td>0</td>\n",
       "      <td>0</td>\n",
       "      <td>1</td>\n",
       "      <td>0</td>\n",
       "      <td>0</td>\n",
       "      <td>0</td>\n",
       "      <td>0</td>\n",
       "      <td>0</td>\n",
       "      <td>0</td>\n",
       "      <td>0</td>\n",
       "      <td>1</td>\n",
       "      <td>0</td>\n",
       "      <td>0</td>\n",
       "      <td>0</td>\n",
       "      <td>0</td>\n",
       "      <td>0</td>\n",
       "      <td>0</td>\n",
       "      <td>0</td>\n",
       "      <td>1</td>\n",
       "      <td>0</td>\n",
       "      <td>0</td>\n",
       "      <td>0</td>\n",
       "      <td>0</td>\n",
       "      <td>0</td>\n",
       "      <td>0</td>\n",
       "      <td>0</td>\n",
       "      <td>0</td>\n",
       "      <td>0</td>\n",
       "      <td>0</td>\n",
       "      <td>1</td>\n",
       "      <td>0</td>\n",
       "      <td>0</td>\n",
       "      <td>0</td>\n",
       "      <td>0</td>\n",
       "      <td>0</td>\n",
       "      <td>1</td>\n",
       "      <td>0</td>\n",
       "      <td>0</td>\n",
       "      <td>0</td>\n",
       "      <td>0</td>\n",
       "      <td>0</td>\n",
       "      <td>1</td>\n",
       "      <td>0</td>\n",
       "      <td>0</td>\n",
       "      <td>0</td>\n",
       "      <td>0</td>\n",
       "      <td>1</td>\n",
       "      <td>0</td>\n",
       "      <td>0</td>\n",
       "      <td>0</td>\n",
       "      <td>0</td>\n",
       "      <td>0</td>\n",
       "      <td>0</td>\n",
       "      <td>0</td>\n",
       "      <td>0</td>\n",
       "      <td>0</td>\n",
       "      <td>0</td>\n",
       "      <td>0</td>\n",
       "      <td>0</td>\n",
       "      <td>1</td>\n",
       "      <td>0</td>\n",
       "      <td>0</td>\n",
       "      <td>0</td>\n",
       "      <td>0</td>\n",
       "      <td>0</td>\n",
       "      <td>1</td>\n",
       "      <td>0</td>\n",
       "      <td>0</td>\n",
       "      <td>0</td>\n",
       "      <td>0</td>\n",
       "      <td>0</td>\n",
       "      <td>0</td>\n",
       "      <td>0</td>\n",
       "      <td>0</td>\n",
       "      <td>0</td>\n",
       "      <td>1</td>\n",
       "      <td>0</td>\n",
       "      <td>0</td>\n",
       "      <td>1</td>\n",
       "      <td>0</td>\n",
       "      <td>0</td>\n",
       "      <td>1</td>\n",
       "      <td>0</td>\n",
       "      <td>1</td>\n",
       "      <td>0</td>\n",
       "    </tr>\n",
       "  </tbody>\n",
       "</table>\n",
       "</div>"
      ],
      "text/plain": [
       "   Unnamed: 0  ring-number  bruises_true  cap-color_buff  cap-color_cinammon  \\\n",
       "0           0            1             1               0                   0   \n",
       "\n",
       "   cap-color_gray  cap-color_green  cap-color_pink  cap-color_purple  \\\n",
       "0               0                0               0                 0   \n",
       "\n",
       "   cap-color_red  cap-color_white  cap-color_yellow  cap-shape_conical  \\\n",
       "0              1                0                 0                  0   \n",
       "\n",
       "   cap-shape_convex  cap-shape_flat  cap-shape_knobbed  cap-shape_sunken  \\\n",
       "0                 1               0                  0                 0   \n",
       "\n",
       "   cap-surface_grooves  cap-surface_scaly  cap-surface_smooth  \\\n",
       "0                    0                  0                   0   \n",
       "\n",
       "   class_poisonous  gill-attachment_free  gill-color_brown  gill-color_buff  \\\n",
       "0                0                     1                 0                0   \n",
       "\n",
       "   gill-color_chocolate  gill-color_gray  gill-color_green  gill-color_orange  \\\n",
       "0                     0                0                 0                  0   \n",
       "\n",
       "   gill-color_pink  gill-color_purple  gill-color_red  gill-color_white  \\\n",
       "0                0                  1               0                 0   \n",
       "\n",
       "   gill-color_yellow  gill-size_narrow  gill-spacing_crowded  habitat_leaves  \\\n",
       "0                  0                 0                     0               0   \n",
       "\n",
       "   habitat_meadows  habitat_paths  habitat_urban  habitat_waste  \\\n",
       "0                0              0              0              0   \n",
       "\n",
       "   habitat_woods  odor_anise  odor_creosote  odor_fishy  odor_foul  \\\n",
       "0              1           0              0           0          0   \n",
       "\n",
       "   odor_musty  odor_none  odor_pungent  odor_spicy  population_clustered  \\\n",
       "0           0          1             0           0                     0   \n",
       "\n",
       "   population_numerous  population_scattered  population_several  \\\n",
       "0                    0                     0                   1   \n",
       "\n",
       "   population_solitary  ring-type_flaring  ring-type_large  ring-type_none  \\\n",
       "0                    0                  0                0               0   \n",
       "\n",
       "   ring-type_pendant  spore-print-color_brown  spore-print-color_buff  \\\n",
       "0                  1                        0                       0   \n",
       "\n",
       "   spore-print-color_chocolate  spore-print-color_green  \\\n",
       "0                            0                        0   \n",
       "\n",
       "   spore-print-color_orange  spore-print-color_purple  \\\n",
       "0                         0                         0   \n",
       "\n",
       "   spore-print-color_white  spore-print-color_yellow  \\\n",
       "0                        0                         0   \n",
       "\n",
       "   stalk-color-above-ring_buff  stalk-color-above-ring_cinammon  \\\n",
       "0                            0                                0   \n",
       "\n",
       "   stalk-color-above-ring_gray  stalk-color-above-ring_orange  \\\n",
       "0                            0                              0   \n",
       "\n",
       "   stalk-color-above-ring_pink  stalk-color-above-ring_red  \\\n",
       "0                            1                           0   \n",
       "\n",
       "   stalk-color-above-ring_white  stalk-color-above-ring_yellow  \\\n",
       "0                             0                              0   \n",
       "\n",
       "   stalk-color-below-ring_buff  stalk-color-below-ring_cinammon  \\\n",
       "0                            0                                0   \n",
       "\n",
       "   stalk-color-below-ring_gray  stalk-color-below-ring_orange  \\\n",
       "0                            1                              0   \n",
       "\n",
       "   stalk-color-below-ring_pink  stalk-color-below-ring_red  \\\n",
       "0                            0                           0   \n",
       "\n",
       "   stalk-color-below-ring_white  stalk-color-below-ring_yellow  \\\n",
       "0                             0                              0   \n",
       "\n",
       "   stalk-root_club_1  stalk-root_equal_1  stalk-root_nan_1  \\\n",
       "0                  0                   0                 0   \n",
       "\n",
       "   stalk-root_rooted_1  stalk-shape_tapering  stalk-surface-above-ring_scaly  \\\n",
       "0                    0                     1                               0   \n",
       "\n",
       "   stalk-surface-above-ring_silky  stalk-surface-above-ring_smooth  \\\n",
       "0                               0                                1   \n",
       "\n",
       "   stalk-surface-below-ring_scaly  stalk-surface-below-ring_silky  \\\n",
       "0                               0                               0   \n",
       "\n",
       "   stalk-surface-below-ring_smooth  veil-color_orange  veil-color_white  \\\n",
       "0                                1                  0                 1   \n",
       "\n",
       "   veil-color_yellow  \n",
       "0                  0  "
      ]
     },
     "execution_count": 3,
     "metadata": {},
     "output_type": "execute_result"
    }
   ],
   "source": [
    "pd.set_option('display.max_columns', None)\n",
    "df.head(1)"
   ]
  },
  {
   "cell_type": "markdown",
   "id": "fea57cbc",
   "metadata": {},
   "source": [
    "## The label is class_poisonous "
   ]
  },
  {
   "cell_type": "code",
   "execution_count": 4,
   "id": "1175480f",
   "metadata": {},
   "outputs": [
    {
     "data": {
      "text/plain": [
       "0    2000\n",
       "1    2000\n",
       "Name: class_poisonous, dtype: int64"
      ]
     },
     "execution_count": 4,
     "metadata": {},
     "output_type": "execute_result"
    }
   ],
   "source": [
    "df[\"class_poisonous\"].value_counts()"
   ]
  },
  {
   "cell_type": "markdown",
   "id": "2964c63c",
   "metadata": {},
   "source": [
    "###### equal amount of poisonous vs edible "
   ]
  },
  {
   "cell_type": "markdown",
   "id": "678b27f7",
   "metadata": {},
   "source": [
    "## Break data train and test set"
   ]
  },
  {
   "cell_type": "code",
   "execution_count": 5,
   "id": "bac58e2c",
   "metadata": {},
   "outputs": [],
   "source": [
    "y = df['class_poisonous']\n",
    "X = df.drop('class_poisonous', axis=1).values\n",
    "\n",
    "X_train, X_test, y_train, y_test = train_test_split(X, y, test_size=0.2, shuffle=True, stratify=y)"
   ]
  },
  {
   "cell_type": "code",
   "execution_count": 6,
   "id": "83add237",
   "metadata": {},
   "outputs": [
    {
     "data": {
      "text/plain": [
       "((3200, 95), (800, 95))"
      ]
     },
     "execution_count": 6,
     "metadata": {},
     "output_type": "execute_result"
    }
   ],
   "source": [
    "X_train.shape, X_test.shape"
   ]
  },
  {
   "cell_type": "markdown",
   "id": "34d9159e",
   "metadata": {},
   "source": [
    "### Start by Training Logistic Regression"
   ]
  },
  {
   "cell_type": "markdown",
   "id": "028751a0",
   "metadata": {},
   "source": [
    "### Create a pipeline "
   ]
  },
  {
   "cell_type": "code",
   "execution_count": 7,
   "id": "2d9a72ef",
   "metadata": {},
   "outputs": [],
   "source": [
    "pipe = Pipeline(steps=[('lg', LogisticRegression())])"
   ]
  },
  {
   "cell_type": "code",
   "execution_count": 8,
   "id": "9525d733",
   "metadata": {},
   "outputs": [],
   "source": [
    "param_grid = {\n",
    "    'lg__solver': ['lbfgs', 'liblinear', 'newton-cholesky', 'sag', 'saga'],  \n",
    "    'lg__max_iter': [50,100,200,300]}"
   ]
  },
  {
   "cell_type": "code",
   "execution_count": null,
   "id": "750d3bf1",
   "metadata": {},
   "outputs": [],
   "source": [
    "search = GridSearchCV(pipe, param_grid, n_jobs=-1, cv=5, refit=True)\n",
    "search.fit(X_train, y_train)"
   ]
  },
  {
   "cell_type": "code",
   "execution_count": 10,
   "id": "5a87c9a0",
   "metadata": {},
   "outputs": [
    {
     "name": "stdout",
     "output_type": "stream",
     "text": [
      "Best CV score = 1.000:\n",
      "Best parameters:  {'lg__max_iter': 50, 'lg__solver': 'newton-cholesky'}\n"
     ]
    }
   ],
   "source": [
    "print(\"Best CV score = %0.3f:\" % search.best_score_)\n",
    "print(\"Best parameters: \", search.best_params_)\n",
    "\n",
    "# store the best params and best model for later use\n",
    "LG_best_params = search.best_params_\n",
    "LG_best_model = search.best_estimator_"
   ]
  },
  {
   "cell_type": "markdown",
   "id": "02c697cc",
   "metadata": {},
   "source": [
    "###### We can see that the highest accuracy of 100% was achived by using the solved newton-cholesky and max_iter of 50\n"
   ]
  },
  {
   "cell_type": "markdown",
   "id": "01cd8365",
   "metadata": {},
   "source": [
    "## Now Train SVM"
   ]
  },
  {
   "cell_type": "code",
   "execution_count": 11,
   "id": "a3ce71da",
   "metadata": {},
   "outputs": [
    {
     "name": "stdout",
     "output_type": "stream",
     "text": [
      "Best CV score = 1.000:\n",
      "Best parameters:  {'svm__C': 0.1, 'svm__gamma': 1, 'svm__kernel': 'linear'}\n"
     ]
    }
   ],
   "source": [
    "pipe = Pipeline(steps=[('svm', svm.SVC(probability=True))])\n",
    "param_grid = {\n",
    "    'svm__C': [0.1, 1, 10, 100],  \n",
    "    'svm__gamma': [1, 0.1, 0.01, 0.001], \n",
    "    'svm__kernel': ['rbf', 'linear', 'poly']}\n",
    "search = GridSearchCV(pipe, param_grid, n_jobs=-1, cv=5, refit=True)\n",
    "search.fit(X_train, y_train)\n",
    "print(\"Best CV score = %0.3f:\" % search.best_score_)\n",
    "print(\"Best parameters: \", search.best_params_)\n",
    "\n",
    "# store the best params and best model for later use\n",
    "SVM_best_params = search.best_params_\n",
    "SVM_best_model = search.best_estimator_"
   ]
  },
  {
   "cell_type": "markdown",
   "id": "47161122",
   "metadata": {},
   "source": [
    "###### We can see that the highest accuracy of 100% was achived by using a C value of 0.1, gamma of 1 \n",
    "and the linear kernal\n"
   ]
  },
  {
   "cell_type": "markdown",
   "id": "0e71852c",
   "metadata": {},
   "source": [
    "## Now train Random Forest"
   ]
  },
  {
   "cell_type": "code",
   "execution_count": 12,
   "id": "5f700493",
   "metadata": {},
   "outputs": [
    {
     "name": "stdout",
     "output_type": "stream",
     "text": [
      "Best CV score = 1.000:\n",
      "Best parameters:  {'rf__max_depth': None, 'rf__min_samples_leaf': 1, 'rf__min_samples_split': 2, 'rf__n_estimators': 100}\n"
     ]
    }
   ],
   "source": [
    "pipe = Pipeline(steps=[('rf', RandomForestClassifier())])\n",
    "param_grid = {\n",
    "    'rf__n_estimators': [100, 200, 300], # Number of trees in the forest\n",
    "    'rf__max_depth': [None, 5, 10], # Maximum depth of the trees\n",
    "    'rf__min_samples_split': [2, 5, 10], # Minimum number of samples required to split a node\n",
    "    'rf__min_samples_leaf': [1, 2, 4] # Minimum number of samples required at each leaf node\n",
    "}\n",
    "search = GridSearchCV(pipe, param_grid, n_jobs=-1, cv=5, refit=True)\n",
    "search.fit(X_train, y_train)\n",
    "print(\"Best CV score = %0.3f:\" % search.best_score_)\n",
    "print(\"Best parameters: \", search.best_params_)\n",
    "\n",
    "#store the best params and best model for later use\n",
    "RF_best_params = search.best_params_\n",
    "RF_best_model = search.best_estimator_"
   ]
  },
  {
   "cell_type": "markdown",
   "id": "1b958872",
   "metadata": {},
   "source": [
    "We can see the Random Forest performed best using a max depth of none, min_sample_leaf of 1 \n",
    "min_samples_split of 2 and n_estimators set to 100"
   ]
  },
  {
   "cell_type": "markdown",
   "id": "4817df35",
   "metadata": {},
   "source": [
    "## Now train naive bayes "
   ]
  },
  {
   "cell_type": "code",
   "execution_count": 13,
   "id": "2283d2f9",
   "metadata": {},
   "outputs": [],
   "source": [
    "from sklearn.naive_bayes import GaussianNB"
   ]
  },
  {
   "cell_type": "code",
   "execution_count": null,
   "id": "ea1e3cad",
   "metadata": {},
   "outputs": [],
   "source": [
    "#### using an article we found online https://medium.com/analytics-vidhya/how-to-improve-naive-bayes-9fa698e14cba \n",
    "#### we applied para tuning "
   ]
  },
  {
   "cell_type": "code",
   "execution_count": 18,
   "id": "86a25a55",
   "metadata": {},
   "outputs": [
    {
     "name": "stdout",
     "output_type": "stream",
     "text": [
      "Fitting 5 folds for each of 100 candidates, totalling 500 fits\n",
      "GaussianNB(var_smoothing=1.0)\n",
      "Best CV score = 1.000:\n"
     ]
    }
   ],
   "source": [
    "param_grid_nb = {\n",
    "    'var_smoothing': np.logspace(0,-9, num=100)\n",
    "}\n",
    "search = GridSearchCV(estimator=GaussianNB(), param_grid=param_grid_nb, verbose=1, cv=5, n_jobs=-1)\n",
    "search.fit(X_train, y_train)\n",
    "print(search.best_estimator_)\n",
    "print(\"Best CV score = %0.3f:\" % search.best_score_)\n",
    "#store the best params and best model for later use\n",
    "NB_best_params = search.best_params_\n",
    "NB_best_model = search.best_estimator_"
   ]
  },
  {
   "cell_type": "markdown",
   "id": "e4eecc5e",
   "metadata": {},
   "source": [
    "###### Using var smoothing of 1.0 we achieved an accuracy of 100%"
   ]
  },
  {
   "cell_type": "markdown",
   "id": "f852f467",
   "metadata": {},
   "source": [
    "## Use each model to make predictions on the test data "
   ]
  },
  {
   "cell_type": "code",
   "execution_count": null,
   "id": "55aaad99",
   "metadata": {},
   "outputs": [],
   "source": [
    "def evaluate(X_test, y_test, model):\n",
    "    probabilities = model.predict_proba(X_test)[:, 1]"
   ]
  }
 ],
 "metadata": {
  "kernelspec": {
   "display_name": "Python 3 (ipykernel)",
   "language": "python",
   "name": "python3"
  },
  "language_info": {
   "codemirror_mode": {
    "name": "ipython",
    "version": 3
   },
   "file_extension": ".py",
   "mimetype": "text/x-python",
   "name": "python",
   "nbconvert_exporter": "python",
   "pygments_lexer": "ipython3",
   "version": "3.9.10"
  }
 },
 "nbformat": 4,
 "nbformat_minor": 5
}
